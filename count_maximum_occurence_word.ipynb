{
 "cells": [
  {
   "cell_type": "code",
   "execution_count": 15,
   "id": "c8405ca2",
   "metadata": {},
   "outputs": [
    {
     "data": {
      "text/plain": [
       "['J', 'o']"
      ]
     },
     "execution_count": 15,
     "metadata": {},
     "output_type": "execute_result"
    }
   ],
   "source": [
    "mystring = 'Joel Jacob'\n",
    "\n",
    "mydict = {}\n",
    "for i in mystring:\n",
    "    count = 0\n",
    "    for j in mystring:\n",
    "        if i==j:\n",
    "            count += 1\n",
    "    mydict[i] = count\n",
    "\n",
    "max_num = max(mydict.items())[1]\n",
    "max_word = [k for k,v in mydict.items() if v==max_num]\n",
    "\n",
    "max_word"
   ]
  },
  {
   "cell_type": "code",
   "execution_count": 16,
   "id": "9939f6d7",
   "metadata": {},
   "outputs": [
    {
     "data": {
      "text/plain": [
       "2"
      ]
     },
     "execution_count": 16,
     "metadata": {},
     "output_type": "execute_result"
    }
   ],
   "source": [
    "max_num = max(mydict.items())[1]\n",
    "max_num"
   ]
  },
  {
   "cell_type": "code",
   "execution_count": 17,
   "id": "5dd7b12b",
   "metadata": {},
   "outputs": [
    {
     "data": {
      "text/plain": [
       "['J', 'o']"
      ]
     },
     "execution_count": 17,
     "metadata": {},
     "output_type": "execute_result"
    }
   ],
   "source": [
    "a = [k for k,v in mydict.items() if v==max_num]\n",
    "a"
   ]
  },
  {
   "cell_type": "code",
   "execution_count": null,
   "id": "2ca7e1cb",
   "metadata": {},
   "outputs": [],
   "source": []
  }
 ],
 "metadata": {
  "kernelspec": {
   "display_name": "Python 3",
   "language": "python",
   "name": "python3"
  },
  "language_info": {
   "codemirror_mode": {
    "name": "ipython",
    "version": 3
   },
   "file_extension": ".py",
   "mimetype": "text/x-python",
   "name": "python",
   "nbconvert_exporter": "python",
   "pygments_lexer": "ipython3",
   "version": "3.8.8"
  }
 },
 "nbformat": 4,
 "nbformat_minor": 5
}
