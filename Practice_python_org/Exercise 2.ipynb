{
 "cells": [
  {
   "cell_type": "markdown",
   "id": "7feff9d0",
   "metadata": {},
   "source": [
    "Ask the user for a number. Depending on whether the number is even or odd, print out an appropriate message to the user."
   ]
  },
  {
   "cell_type": "code",
   "execution_count": 4,
   "id": "99898179",
   "metadata": {},
   "outputs": [
    {
     "name": "stdout",
     "output_type": "stream",
     "text": [
      "Enter a number: 4\n",
      "4 is an even number\n",
      "4 is a multiple of 4 too!\n"
     ]
    }
   ],
   "source": [
    "num = int(input(\"Enter a number: \"))\n",
    "\n",
    "if num%2==0:\n",
    "    print(num,\"is an even number\")\n",
    "    if num%4==0:\n",
    "        print(num,\"is a multiple of 4 too!\")\n",
    "else:\n",
    "    print(num,\"is an odd number\")"
   ]
  },
  {
   "cell_type": "markdown",
   "id": "8cc2e5f3",
   "metadata": {},
   "source": [
    "Ask the user for two numbers: one number to check (call it num) and one number to divide by (check). If check divides evenly into num, tell that to the user. If not, print a different appropriate message."
   ]
  },
  {
   "cell_type": "code",
   "execution_count": 5,
   "id": "72a8984e",
   "metadata": {},
   "outputs": [
    {
     "name": "stdout",
     "output_type": "stream",
     "text": [
      "Enter a number to check2\n",
      "Enter a number to divide by4\n",
      "2 doesn't divides evenly by  4\n"
     ]
    }
   ],
   "source": [
    "num = int(input('Enter a number to check '))\n",
    "check = int(input('Enter a number to divide by '))\n",
    "\n",
    "if num%check==0:\n",
    "    print(num,\"divides evenly by \",check)\n",
    "else:\n",
    "    print(num,\"doesn't divides evenly by \",check)    "
   ]
  },
  {
   "cell_type": "code",
   "execution_count": null,
   "id": "978ccbd3",
   "metadata": {},
   "outputs": [],
   "source": []
  }
 ],
 "metadata": {
  "kernelspec": {
   "display_name": "Python 3",
   "language": "python",
   "name": "python3"
  },
  "language_info": {
   "codemirror_mode": {
    "name": "ipython",
    "version": 3
   },
   "file_extension": ".py",
   "mimetype": "text/x-python",
   "name": "python",
   "nbconvert_exporter": "python",
   "pygments_lexer": "ipython3",
   "version": "3.8.8"
  }
 },
 "nbformat": 4,
 "nbformat_minor": 5
}
